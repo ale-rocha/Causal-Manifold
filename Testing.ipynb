{
  "nbformat": 4,
  "nbformat_minor": 0,
  "metadata": {
    "colab": {
      "name": "Testing.ipynb",
      "provenance": [],
      "collapsed_sections": [],
      "authorship_tag": "ABX9TyMwArsLhxf9CKD992JPgzrO",
      "include_colab_link": true
    },
    "kernelspec": {
      "name": "python3",
      "display_name": "Python 3"
    },
    "language_info": {
      "name": "python"
    }
  },
  "cells": [
    {
      "cell_type": "markdown",
      "metadata": {
        "id": "view-in-github",
        "colab_type": "text"
      },
      "source": [
        "<a href=\"https://colab.research.google.com/github/ale-rocha/Causal-Manifold/blob/main/Testing.ipynb\" target=\"_parent\"><img src=\"https://colab.research.google.com/assets/colab-badge.svg\" alt=\"Open In Colab\"/></a>"
      ]
    },
    {
      "cell_type": "code",
      "execution_count": 1,
      "metadata": {
        "id": "clROLcYvjZNe"
      },
      "outputs": [],
      "source": [
        "#Testing github conection\n",
        "\n"
      ]
    },
    {
      "cell_type": "code",
      "source": [
        "#Testing 2"
      ],
      "metadata": {
        "id": "Zejmx9PIj6tA"
      },
      "execution_count": 2,
      "outputs": []
    },
    {
      "cell_type": "code",
      "source": [
        ""
      ],
      "metadata": {
        "id": "0yzFGU9Pj9lK"
      },
      "execution_count": null,
      "outputs": []
    }
  ]
}